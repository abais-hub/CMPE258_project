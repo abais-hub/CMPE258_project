{
  "nbformat": 4,
  "nbformat_minor": 0,
  "metadata": {
    "colab": {
      "name": "CMPE258_Assignment_4_Part_2.ipynb",
      "provenance": [],
      "include_colab_link": true
    },
    "kernelspec": {
      "name": "python3",
      "display_name": "Python 3"
    },
    "language_info": {
      "name": "python"
    },
    "accelerator": "TPU"
  },
  "cells": [
    {
      "cell_type": "markdown",
      "metadata": {
        "id": "view-in-github",
        "colab_type": "text"
      },
      "source": [
        "<a href=\"https://colab.research.google.com/github/abais-hub/CMPE258_project/blob/main/CMPE258_Assignment_4_Part_2.ipynb\" target=\"_parent\"><img src=\"https://colab.research.google.com/assets/colab-badge.svg\" alt=\"Open In Colab\"/></a>"
      ]
    },
    {
      "cell_type": "markdown",
      "metadata": {
        "id": "p13S6tToQHq5"
      },
      "source": [
        "# CMPE 258 Assignment 4 Part 2\n",
        "# Abhishek Bais\n",
        "## Tasks : Use Keras\n",
        "a) Mini batch gradient descent along with appropriate learning rate.  \n",
        "b) Dropout, initialize the random weights of network properly.  \n",
        "c) Basic image augmentations to supplement the training data.  \n",
        "d) Should use  3 or more layers for training (not 2 as in example ).  \n",
        "e) Should use relu activation layer in right places like python code.  \n",
        "f) Should normalize the input before training (scaling the input).  \n",
        "g) Should use appropriate learning rate.  \n",
        "h) Should provide appropriate metrics, visualization.    \n",
        "i) Should display top common errors like in below link.  \n"
      ]
    },
    {
      "cell_type": "markdown",
      "metadata": {
        "id": "2VNqYSTbQRVT"
      },
      "source": [
        "# Load MNIST Dataset \n"
      ]
    },
    {
      "cell_type": "code",
      "metadata": {
        "id": "XT03lTDwPoUi"
      },
      "source": [
        "import numpy as np\n",
        "import matplotlib.pyplot as plt\n",
        "import tensorflow as tf\n",
        "from keras.datasets import mnist\n",
        "from sklearn.metrics import mean_squared_error\n",
        "import itertools\n",
        "import math\n",
        "from sklearn.metrics import confusion_matrix\n",
        "from keras.utils.np_utils import to_categorical\n",
        "from sklearn.model_selection import train_test_split\n",
        "from keras.preprocessing.image import ImageDataGenerator"
      ],
      "execution_count": null,
      "outputs": []
    },
    {
      "cell_type": "code",
      "metadata": {
        "id": "6aG8-GndQZ0M"
      },
      "source": [
        "# Read in the Mnist dataset\n",
        "(X_train, y_train), (X_test, y_test) = mnist.load_data()"
      ],
      "execution_count": null,
      "outputs": []
    },
    {
      "cell_type": "markdown",
      "metadata": {
        "id": "5cCcpwpMQcPE"
      },
      "source": [
        "# Visualize the dataset"
      ]
    },
    {
      "cell_type": "code",
      "metadata": {
        "id": "oDpEu5OsQe_N"
      },
      "source": [
        "# View the data\n",
        "def visualize_N_elems_of_dataset(dataset, N, name):\n",
        "  print(\"Visualizing the \" + name + \" dataset.\")\n",
        "  fig = plt.figure(figsize=plt.figaspect(0.3))\n",
        "\n",
        "  # Plot N elems of the dataset\n",
        "  for image in range(0, N):\n",
        "    ax = fig.add_subplot(1, 10, image+1)\n",
        "    ax.imshow(dataset[image], cmap='Accent')"
      ],
      "execution_count": null,
      "outputs": []
    },
    {
      "cell_type": "code",
      "metadata": {
        "colab": {
          "base_uri": "https://localhost:8080/",
          "height": 131
        },
        "id": "npeGkvMqQhVk",
        "outputId": "253c1c98-cd9a-4a8e-ea64-68bc97a58041"
      },
      "source": [
        "N = 10\n",
        "visualize_N_elems_of_dataset(X_train, N, \"train\")"
      ],
      "execution_count": null,
      "outputs": [
        {
          "output_type": "stream",
          "text": [
            "Visualizing the train dataset.\n"
          ],
          "name": "stdout"
        },
        {
          "output_type": "display_data",
          "data": {
            "image/png": "[encoded data removed]",
            "text/plain": [
              "<Figure size 960x288 with 10 Axes>"
            ]
          },
          "metadata": {
            "tags": [],
            "needs_background": "light"
          }
        }
      ]
    },
    {
      "cell_type": "code",
      "metadata": {
        "colab": {
          "base_uri": "https://localhost:8080/",
          "height": 131
        },
        "id": "TI59JHEKQjwx",
        "outputId": "550bc8c5-a143-4092-c880-32c71243bb94"
      },
      "source": [
        "N = 10\n",
        "visualize_N_elems_of_dataset(X_test, N, \"test\")"
      ],
      "execution_count": null,
      "outputs": [
        {
          "output_type": "stream",
          "text": [
            "Visualizing the test dataset.\n"
          ],
          "name": "stdout"
        },
        {
          "output_type": "display_data",
          "data": {
            "image/png": "[encoded data removed]",
            "text/plain": [
              "<Figure size 960x288 with 10 Axes>"
            ]
          },
          "metadata": {
            "tags": [],
            "needs_background": "light"
          }
        }
      ]
    },
    {
      "cell_type": "markdown",
      "metadata": {
        "id": "LwdPR34UXvQO"
      },
      "source": [
        "# Reference used for underneath code\n",
        "https://www.kaggle.com/yassineghouzam/introduction-to-cnn-keras-0-997-top-6"
      ]
    },
    {
      "cell_type": "markdown",
      "metadata": {
        "id": "_knZcRYzYbTN"
      },
      "source": [
        "# Read in the mnist dataset, normalize, encode"
      ]
    },
    {
      "cell_type": "code",
      "metadata": {
        "colab": {
          "base_uri": "https://localhost:8080/"
        },
        "id": "I3ql5GFjtoPc",
        "outputId": "5a6482ce-aa20-4702-cb6a-a3a03eb8cb41"
      },
      "source": [
        "# Read in the mnist dataset, normalize, encode\n",
        "(X_train, y_train), (X_test, y_test) = mnist.load_data()\n",
        "\n",
        "# normalize\n",
        "X_train, X_valid, y_train, y_valid = train_test_split(X_train, y_train, test_size=0.1)\n",
        "\n",
        "# encode\n",
        "X_train, X_valid = np.expand_dims(X_train, axis=-1), np.expand_dims(X_valid, axis=-1)\n",
        "y_train, y_valid, true_valid = to_categorical(y_train, num_classes=10), to_categorical(y_valid, num_classes=10), y_valid\n",
        "\n",
        "# print\n",
        "print(X_train.shape)\n",
        "print(X_test.shape)\n",
        "print(y_train.shape)\n",
        "print(y_test.shape)"
      ],
      "execution_count": null,
      "outputs": [
        {
          "output_type": "stream",
          "text": [
            "(54000, 28, 28, 1)\n",
            "(10000, 28, 28)\n",
            "(54000, 10)\n",
            "(10000,)\n"
          ],
          "name": "stdout"
        }
      ]
    },
    {
      "cell_type": "markdown",
      "metadata": {
        "id": "Nx_sfiqPZUWO"
      },
      "source": [
        "# Build the NueralNet"
      ]
    },
    {
      "cell_type": "code",
      "metadata": {
        "id": "d6KxHW88alV8"
      },
      "source": [
        "from keras.layers import Dense, Dropout\n",
        "from keras.models import Sequential\n",
        "from keras.utils import to_categorical\n",
        "from keras.layers import Flatten, Conv2D, MaxPool2D\n",
        "from keras_preprocessing.image import ImageDataGenerator\n",
        "from keras.layers.core import Reshape"
      ],
      "execution_count": null,
      "outputs": []
    },
    {
      "cell_type": "code",
      "metadata": {
        "id": "hTj2vHYFTDgJ"
      },
      "source": [
        "# Explore building NueralNet with CNN\n",
        "def build_nueralNet():\n",
        "  model = Sequential()\n",
        "  model.add(Conv2D(filters=32, kernel_size=(5, 5), padding=\"Same\", activation=\"relu\", input_shape=(28, 28, 1)))\n",
        "  model.add(Conv2D(filters=32, kernel_size=(5, 5), padding=\"Same\", activation=\"relu\"))\n",
        "  model.add(MaxPool2D((2, 2)))\n",
        "  model.add(Dropout(0.5))\n",
        "  model.add(Conv2D(filters=64, kernel_size=(3, 3), padding=\"Same\", activation=\"relu\"))\n",
        "  model.add(Conv2D(filters=64, kernel_size=(3, 3), padding=\"Same\", activation=\"relu\"))\n",
        "  model.add(MaxPool2D(pool_size=(2, 2), strides=(2, 2)))\n",
        "  model.add(Dropout(0.5))\n",
        "  model.add(Flatten())\n",
        "  model.add(Dense(256, activation=\"relu\"))\n",
        "  model.add(Dropout(0.5))\n",
        "  model.add(Dense(10, activation=\"softmax\"))\n",
        "  model.compile(loss='categorical_crossentropy', metrics=['accuracy'], optimizer='sgd')\n",
        "  print(model.summary())\n",
        "  return model\n"
      ],
      "execution_count": null,
      "outputs": []
    },
    {
      "cell_type": "code",
      "metadata": {
        "id": "1Bu19IF1wm3M"
      },
      "source": [
        "# Build the NueralNet without CNN, only relu, softmax\n",
        "def build_nueralNet():\n",
        "  model = Sequential()\n",
        "  model.add(Reshape((-1,), input_shape = (28, 28, 1)))\n",
        "  model.add(Dense(28 * 28, activation='relu'))\n",
        "  model.add(Dropout(0.5))\n",
        "  model.add(Dense(512, activation='relu'))\n",
        "  model.add(Dropout(0.5))\n",
        "  model.add(Dense(256, activation='relu'))\n",
        "  model.add(Dropout(0.5))\n",
        "  model.add(Dense(10, activation='softmax'))\n",
        "  model.compile(loss='categorical_crossentropy', metrics=['accuracy'], optimizer='sgd')\n",
        "  print(model.summary())\n",
        "  return model\n"
      ],
      "execution_count": null,
      "outputs": []
    },
    {
      "cell_type": "code",
      "metadata": {
        "colab": {
          "base_uri": "https://localhost:8080/"
        },
        "id": "0dprmsmjuR6k",
        "outputId": "5275e1ae-5dfa-4359-b99d-afcf5b3e4ea1"
      },
      "source": [
        "model = build_nueralNet()"
      ],
      "execution_count": null,
      "outputs": [
        {
          "output_type": "stream",
          "text": [
            "Model: \"sequential\"\n",
            "_________________________________________________________________\n",
            "Layer (type)                 Output Shape              Param #   \n",
            "=================================================================\n",
            "conv2d (Conv2D)              (None, 28, 28, 32)        832       \n",
            "_________________________________________________________________\n",
            "conv2d_1 (Conv2D)            (None, 28, 28, 32)        25632     \n",
            "_________________________________________________________________\n",
            "max_pooling2d (MaxPooling2D) (None, 14, 14, 32)        0         \n",
            "_________________________________________________________________\n",
            "dropout (Dropout)            (None, 14, 14, 32)        0         \n",
            "_________________________________________________________________\n",
            "conv2d_2 (Conv2D)            (None, 14, 14, 64)        18496     \n",
            "_________________________________________________________________\n",
            "conv2d_3 (Conv2D)            (None, 14, 14, 64)        36928     \n",
            "_________________________________________________________________\n",
            "max_pooling2d_1 (MaxPooling2 (None, 7, 7, 64)          0         \n",
            "_________________________________________________________________\n",
            "dropout_1 (Dropout)          (None, 7, 7, 64)          0         \n",
            "_________________________________________________________________\n",
            "flatten (Flatten)            (None, 3136)              0         \n",
            "_________________________________________________________________\n",
            "dense (Dense)                (None, 256)               803072    \n",
            "_________________________________________________________________\n",
            "dropout_2 (Dropout)          (None, 256)               0         \n",
            "_________________________________________________________________\n",
            "dense_1 (Dense)              (None, 10)                2570      \n",
            "=================================================================\n",
            "Total params: 887,530\n",
            "Trainable params: 887,530\n",
            "Non-trainable params: 0\n",
            "_________________________________________________________________\n",
            "None\n"
          ],
          "name": "stdout"
        }
      ]
    },
    {
      "cell_type": "markdown",
      "metadata": {
        "id": "R6RN9_pQarpF"
      },
      "source": [
        "# Define the hyperparameters"
      ]
    },
    {
      "cell_type": "code",
      "metadata": {
        "id": "ZfFACDFmasSq"
      },
      "source": [
        "num_epochs = 10\n",
        "batch_size = 32"
      ],
      "execution_count": null,
      "outputs": []
    },
    {
      "cell_type": "markdown",
      "metadata": {
        "id": "dyD_3pfYbPeI"
      },
      "source": [
        "# Define adaptive learning rate, with patience=5"
      ]
    },
    {
      "cell_type": "code",
      "metadata": {
        "id": "VTKeFg6rbTc7"
      },
      "source": [
        "# Use adaptive learning rate\n",
        "from keras.callbacks import ReduceLROnPlateau\n",
        "adaptive_lr = ReduceLROnPlateau(monitor='val_accuracy', \n",
        "                                patience=5, \n",
        "                                verbose=1, \n",
        "                                factor=0.5, \n",
        "                                min_lr=0.00001)"
      ],
      "execution_count": null,
      "outputs": []
    },
    {
      "cell_type": "markdown",
      "metadata": {
        "id": "whqTZ6Bxdh1r"
      },
      "source": [
        "# Augment images"
      ]
    },
    {
      "cell_type": "code",
      "metadata": {
        "id": "mXF1kUPZtlDj"
      },
      "source": [
        "gen = ImageDataGenerator(\n",
        "        featurewise_center=False,  # set input mean to 0 over the dataset\n",
        "        samplewise_center=False,  # set each sample mean to 0\n",
        "        featurewise_std_normalization=False,  # divide inputs by std of the dataset\n",
        "        samplewise_std_normalization=False,  # divide each input by its std\n",
        "        zca_whitening=False,  # apply ZCA whitening\n",
        "        rotation_range=10,  # randomly rotate images in the range (degrees, 0 to 180)\n",
        "        zoom_range = 0.1, # Randomly zoom image \n",
        "        width_shift_range=0.1,  # randomly shift images horizontally (fraction of total width)\n",
        "        height_shift_range=0.1,  # randomly shift images vertically (fraction of total height)\n",
        "        horizontal_flip=False,  # randomly flip images\n",
        "        vertical_flip=False)  # randomly flip images\n",
        "\n",
        "gen.fit(X_train)"
      ],
      "execution_count": null,
      "outputs": []
    },
    {
      "cell_type": "markdown",
      "metadata": {
        "id": "zwrtvqJBdosT"
      },
      "source": [
        "# Fit, predict with augmentation, adaptive learning rate"
      ]
    },
    {
      "cell_type": "code",
      "metadata": {
        "colab": {
          "base_uri": "https://localhost:8080/"
        },
        "id": "tzeQZGEw0FFV",
        "outputId": "78d5e3a6-5605-4374-c855-392689a84c5a"
      },
      "source": [
        "# fit predict\n",
        "history = model.fit(gen.flow(X_train, y_train, batch_size=batch_size), \n",
        "                    steps_per_epoch=math.floor(X_train.shape[0] / batch_size), \n",
        "                    epochs=num_epochs, callbacks=[adaptive_lr], \n",
        "                    validation_data=(X_valid, y_valid))"
      ],
      "execution_count": null,
      "outputs": [
        {
          "output_type": "stream",
          "text": [
            "Epoch 1/10\n",
            "1687/1687 [==============================] - 381s 225ms/step - loss: 3.0095 - accuracy: 0.3590 - val_loss: 0.1954 - val_accuracy: 0.9533\n",
            "Epoch 2/10\n",
            "1687/1687 [==============================] - 381s 226ms/step - loss: 0.5228 - accuracy: 0.8347 - val_loss: 0.1254 - val_accuracy: 0.9650\n",
            "Epoch 3/10\n",
            "1687/1687 [==============================] - 385s 228ms/step - loss: 0.3409 - accuracy: 0.8948 - val_loss: 0.1098 - val_accuracy: 0.9707\n",
            "Epoch 4/10\n",
            "1687/1687 [==============================] - 386s 229ms/step - loss: 0.2651 - accuracy: 0.9198 - val_loss: 0.0789 - val_accuracy: 0.9757\n",
            "Epoch 5/10\n",
            "1687/1687 [==============================] - 385s 228ms/step - loss: 0.2273 - accuracy: 0.9296 - val_loss: 0.0639 - val_accuracy: 0.9797\n",
            "Epoch 6/10\n",
            "1687/1687 [==============================] - 386s 229ms/step - loss: 0.2004 - accuracy: 0.9423 - val_loss: 0.0562 - val_accuracy: 0.9828\n",
            "Epoch 7/10\n",
            "1687/1687 [==============================] - 388s 230ms/step - loss: 0.1811 - accuracy: 0.9453 - val_loss: 0.0672 - val_accuracy: 0.9792\n",
            "Epoch 8/10\n",
            "1687/1687 [==============================] - 383s 227ms/step - loss: 0.1748 - accuracy: 0.9499 - val_loss: 0.0577 - val_accuracy: 0.9832\n",
            "Epoch 9/10\n",
            "1687/1687 [==============================] - 384s 228ms/step - loss: 0.1636 - accuracy: 0.9519 - val_loss: 0.0537 - val_accuracy: 0.9828\n",
            "Epoch 10/10\n",
            "1687/1687 [==============================] - 384s 228ms/step - loss: 0.1483 - accuracy: 0.9556 - val_loss: 0.0588 - val_accuracy: 0.9828\n"
          ],
          "name": "stdout"
        }
      ]
    },
    {
      "cell_type": "markdown",
      "metadata": {
        "id": "2T_yUrBbeRNK"
      },
      "source": [
        "# Visualize accuracy of prediction"
      ]
    },
    {
      "cell_type": "code",
      "metadata": {
        "colab": {
          "base_uri": "https://localhost:8080/",
          "height": 267
        },
        "id": "VGwVl63ZeVcL",
        "outputId": "b0f7f5c0-5da0-461b-96ef-3a3f19448659"
      },
      "source": [
        "# Plot the accuracy metrics\n",
        "plt.plot(history.history[\"accuracy\"], 'b', label=\"training accuracy\")\n",
        "plt.plot(history.history[\"val_accuracy\"], 'r', label=\"validation vccuracy\")\n",
        "plt.legend(loc=\"best\")\n",
        "plt.show()"
      ],
      "execution_count": null,
      "outputs": [
        {
          "output_type": "display_data",
          "data": {
            "image/png": "[encoded data removed]",
            "text/plain": [
              "<Figure size 432x288 with 1 Axes>"
            ]
          },
          "metadata": {
            "tags": [],
            "needs_background": "light"
          }
        }
      ]
    },
    {
      "cell_type": "markdown",
      "metadata": {
        "id": "2Fd_PtF_eZdf"
      },
      "source": [
        "# Plot the confusion matrix"
      ]
    },
    {
      "cell_type": "code",
      "metadata": {
        "id": "u0Y3xSoNec1Z"
      },
      "source": [
        "# visualize accuracy on confusion matrix\n",
        "def plot_confusion_matrix(y_true, y_pred):\n",
        "  c_matrix = confusion_matrix(y_true, y_pred) \n",
        "  plt.imshow(c_matrix, cmap='Accent')\n",
        "  \n",
        "  for i, j in itertools.product(\n",
        "      range(c_matrix.shape[0]), range(c_matrix.shape[1])):\n",
        "      plt.text(j, i\n",
        "               , c_matrix[i, j]\n",
        "               , horizontalalignment=\"center\"\n",
        "               , color=\"white\" if c_matrix[i, j] > (c_matrix.max() / 2.) else \"black\")\n",
        "\n",
        "  plt.title('Confusion matrix plot')\n",
        "  plt.ylabel('True labels')\n",
        "  plt.xlabel('Predicted labels')\n"
      ],
      "execution_count": null,
      "outputs": []
    },
    {
      "cell_type": "code",
      "metadata": {
        "colab": {
          "base_uri": "https://localhost:8080/",
          "height": 295
        },
        "id": "OlOxT3i4eh89",
        "outputId": "29d4d818-d137-4ebe-d542-1181e1bfaa76"
      },
      "source": [
        "pred_valid = np.argmax(model.predict(X_valid), axis=1) \n",
        "plot_confusion_matrix(true_valid, pred_valid)"
      ],
      "execution_count": null,
      "outputs": [
        {
          "output_type": "display_data",
          "data": {
            "image/png": "[encoded data removed]",
            "text/plain": [
              "<Figure size 432x288 with 1 Axes>"
            ]
          },
          "metadata": {
            "tags": [],
            "needs_background": "light"
          }
        }
      ]
    }
  ]
}